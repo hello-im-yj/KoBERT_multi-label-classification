{
  "nbformat": 4,
  "nbformat_minor": 0,
  "metadata": {
    "colab": {
      "name": "Multi-label Classification Code using KoBERT ",
      "provenance": [],
      "collapsed_sections": [
        "KXKPUKttGXBG"
      ],
      "machine_shape": "hm"
    },
    "kernelspec": {
      "display_name": "Python 3",
      "language": "python",
      "name": "python3"
    },
    "language_info": {
      "codemirror_mode": {
        "name": "ipython",
        "version": 3
      },
      "file_extension": ".py",
      "mimetype": "text/x-python",
      "name": "python",
      "nbconvert_exporter": "python",
      "pygments_lexer": "ipython3",
      "version": "3.7.6-final"
    },
    "widgets": {
      "application/vnd.jupyter.widget-state+json": {
        "76b14575647343f7bbfd28d91e1b8c64": {
          "model_module": "@jupyter-widgets/controls",
          "model_name": "HBoxModel",
          "state": {
            "_view_name": "HBoxView",
            "_dom_classes": [],
            "_model_name": "HBoxModel",
            "_view_module": "@jupyter-widgets/controls",
            "_model_module_version": "1.5.0",
            "_view_count": null,
            "_view_module_version": "1.5.0",
            "box_style": "",
            "layout": "IPY_MODEL_d28dfacead10432fb22e05ea9a40eed7",
            "_model_module": "@jupyter-widgets/controls",
            "children": [
              "IPY_MODEL_0b8459f75b3e4f4a8aec1ce265c49dbe",
              "IPY_MODEL_b5ea742e1ced470398b0c5f47f6dc442"
            ]
          }
        },
        "d28dfacead10432fb22e05ea9a40eed7": {
          "model_module": "@jupyter-widgets/base",
          "model_name": "LayoutModel",
          "state": {
            "_view_name": "LayoutView",
            "grid_template_rows": null,
            "right": null,
            "justify_content": null,
            "_view_module": "@jupyter-widgets/base",
            "overflow": null,
            "_model_module_version": "1.2.0",
            "_view_count": null,
            "flex_flow": null,
            "width": null,
            "min_width": null,
            "border": null,
            "align_items": null,
            "bottom": null,
            "_model_module": "@jupyter-widgets/base",
            "top": null,
            "grid_column": null,
            "overflow_y": null,
            "overflow_x": null,
            "grid_auto_flow": null,
            "grid_area": null,
            "grid_template_columns": null,
            "flex": null,
            "_model_name": "LayoutModel",
            "justify_items": null,
            "grid_row": null,
            "max_height": null,
            "align_content": null,
            "visibility": null,
            "align_self": null,
            "height": null,
            "min_height": null,
            "padding": null,
            "grid_auto_rows": null,
            "grid_gap": null,
            "max_width": null,
            "order": null,
            "_view_module_version": "1.2.0",
            "grid_template_areas": null,
            "object_position": null,
            "object_fit": null,
            "grid_auto_columns": null,
            "margin": null,
            "display": null,
            "left": null
          }
        },
        "0b8459f75b3e4f4a8aec1ce265c49dbe": {
          "model_module": "@jupyter-widgets/controls",
          "model_name": "FloatProgressModel",
          "state": {
            "_view_name": "ProgressView",
            "style": "IPY_MODEL_fd06f31da78e4d8d84a063bb6af88654",
            "_dom_classes": [],
            "description": "100%",
            "_model_name": "FloatProgressModel",
            "bar_style": "success",
            "max": 38287,
            "_view_module": "@jupyter-widgets/controls",
            "_model_module_version": "1.5.0",
            "value": 38287,
            "_view_count": null,
            "_view_module_version": "1.5.0",
            "orientation": "horizontal",
            "min": 0,
            "description_tooltip": null,
            "_model_module": "@jupyter-widgets/controls",
            "layout": "IPY_MODEL_5eb87e55461b400781d2015c0c2be0c1"
          }
        },
        "b5ea742e1ced470398b0c5f47f6dc442": {
          "model_module": "@jupyter-widgets/controls",
          "model_name": "HTMLModel",
          "state": {
            "_view_name": "HTMLView",
            "style": "IPY_MODEL_fad69e86a7f143c396793450989eb80d",
            "_dom_classes": [],
            "description": "",
            "_model_name": "HTMLModel",
            "placeholder": "​",
            "_view_module": "@jupyter-widgets/controls",
            "_model_module_version": "1.5.0",
            "value": " 38287/38287 [4:06:05&lt;00:00,  2.59it/s]",
            "_view_count": null,
            "_view_module_version": "1.5.0",
            "description_tooltip": null,
            "_model_module": "@jupyter-widgets/controls",
            "layout": "IPY_MODEL_6a9eb31914d443d8a1f26a92570d0536"
          }
        },
        "fd06f31da78e4d8d84a063bb6af88654": {
          "model_module": "@jupyter-widgets/controls",
          "model_name": "ProgressStyleModel",
          "state": {
            "_view_name": "StyleView",
            "_model_name": "ProgressStyleModel",
            "description_width": "initial",
            "_view_module": "@jupyter-widgets/base",
            "_model_module_version": "1.5.0",
            "_view_count": null,
            "_view_module_version": "1.2.0",
            "bar_color": null,
            "_model_module": "@jupyter-widgets/controls"
          }
        },
        "5eb87e55461b400781d2015c0c2be0c1": {
          "model_module": "@jupyter-widgets/base",
          "model_name": "LayoutModel",
          "state": {
            "_view_name": "LayoutView",
            "grid_template_rows": null,
            "right": null,
            "justify_content": null,
            "_view_module": "@jupyter-widgets/base",
            "overflow": null,
            "_model_module_version": "1.2.0",
            "_view_count": null,
            "flex_flow": null,
            "width": null,
            "min_width": null,
            "border": null,
            "align_items": null,
            "bottom": null,
            "_model_module": "@jupyter-widgets/base",
            "top": null,
            "grid_column": null,
            "overflow_y": null,
            "overflow_x": null,
            "grid_auto_flow": null,
            "grid_area": null,
            "grid_template_columns": null,
            "flex": null,
            "_model_name": "LayoutModel",
            "justify_items": null,
            "grid_row": null,
            "max_height": null,
            "align_content": null,
            "visibility": null,
            "align_self": null,
            "height": null,
            "min_height": null,
            "padding": null,
            "grid_auto_rows": null,
            "grid_gap": null,
            "max_width": null,
            "order": null,
            "_view_module_version": "1.2.0",
            "grid_template_areas": null,
            "object_position": null,
            "object_fit": null,
            "grid_auto_columns": null,
            "margin": null,
            "display": null,
            "left": null
          }
        },
        "fad69e86a7f143c396793450989eb80d": {
          "model_module": "@jupyter-widgets/controls",
          "model_name": "DescriptionStyleModel",
          "state": {
            "_view_name": "StyleView",
            "_model_name": "DescriptionStyleModel",
            "description_width": "",
            "_view_module": "@jupyter-widgets/base",
            "_model_module_version": "1.5.0",
            "_view_count": null,
            "_view_module_version": "1.2.0",
            "_model_module": "@jupyter-widgets/controls"
          }
        },
        "6a9eb31914d443d8a1f26a92570d0536": {
          "model_module": "@jupyter-widgets/base",
          "model_name": "LayoutModel",
          "state": {
            "_view_name": "LayoutView",
            "grid_template_rows": null,
            "right": null,
            "justify_content": null,
            "_view_module": "@jupyter-widgets/base",
            "overflow": null,
            "_model_module_version": "1.2.0",
            "_view_count": null,
            "flex_flow": null,
            "width": null,
            "min_width": null,
            "border": null,
            "align_items": null,
            "bottom": null,
            "_model_module": "@jupyter-widgets/base",
            "top": null,
            "grid_column": null,
            "overflow_y": null,
            "overflow_x": null,
            "grid_auto_flow": null,
            "grid_area": null,
            "grid_template_columns": null,
            "flex": null,
            "_model_name": "LayoutModel",
            "justify_items": null,
            "grid_row": null,
            "max_height": null,
            "align_content": null,
            "visibility": null,
            "align_self": null,
            "height": null,
            "min_height": null,
            "padding": null,
            "grid_auto_rows": null,
            "grid_gap": null,
            "max_width": null,
            "order": null,
            "_view_module_version": "1.2.0",
            "grid_template_areas": null,
            "object_position": null,
            "object_fit": null,
            "grid_auto_columns": null,
            "margin": null,
            "display": null,
            "left": null
          }
        },
        "74bc8f885c144150ba9a275cf7b4ce36": {
          "model_module": "@jupyter-widgets/controls",
          "model_name": "HBoxModel",
          "state": {
            "_view_name": "HBoxView",
            "_dom_classes": [],
            "_model_name": "HBoxModel",
            "_view_module": "@jupyter-widgets/controls",
            "_model_module_version": "1.5.0",
            "_view_count": null,
            "_view_module_version": "1.5.0",
            "box_style": "",
            "layout": "IPY_MODEL_b57d490d0c8b4596813bb393d1c9630d",
            "_model_module": "@jupyter-widgets/controls",
            "children": [
              "IPY_MODEL_640b32707bab47849908673e292d8ef9",
              "IPY_MODEL_8963908cd9b44a62a552cd559d41eed5"
            ]
          }
        },
        "b57d490d0c8b4596813bb393d1c9630d": {
          "model_module": "@jupyter-widgets/base",
          "model_name": "LayoutModel",
          "state": {
            "_view_name": "LayoutView",
            "grid_template_rows": null,
            "right": null,
            "justify_content": null,
            "_view_module": "@jupyter-widgets/base",
            "overflow": null,
            "_model_module_version": "1.2.0",
            "_view_count": null,
            "flex_flow": null,
            "width": null,
            "min_width": null,
            "border": null,
            "align_items": null,
            "bottom": null,
            "_model_module": "@jupyter-widgets/base",
            "top": null,
            "grid_column": null,
            "overflow_y": null,
            "overflow_x": null,
            "grid_auto_flow": null,
            "grid_area": null,
            "grid_template_columns": null,
            "flex": null,
            "_model_name": "LayoutModel",
            "justify_items": null,
            "grid_row": null,
            "max_height": null,
            "align_content": null,
            "visibility": null,
            "align_self": null,
            "height": null,
            "min_height": null,
            "padding": null,
            "grid_auto_rows": null,
            "grid_gap": null,
            "max_width": null,
            "order": null,
            "_view_module_version": "1.2.0",
            "grid_template_areas": null,
            "object_position": null,
            "object_fit": null,
            "grid_auto_columns": null,
            "margin": null,
            "display": null,
            "left": null
          }
        },
        "640b32707bab47849908673e292d8ef9": {
          "model_module": "@jupyter-widgets/controls",
          "model_name": "FloatProgressModel",
          "state": {
            "_view_name": "ProgressView",
            "style": "IPY_MODEL_62b6f6e191fe4da5b9a081f9c465bc09",
            "_dom_classes": [],
            "description": "100%",
            "_model_name": "FloatProgressModel",
            "bar_style": "success",
            "max": 9572,
            "_view_module": "@jupyter-widgets/controls",
            "_model_module_version": "1.5.0",
            "value": 9572,
            "_view_count": null,
            "_view_module_version": "1.5.0",
            "orientation": "horizontal",
            "min": 0,
            "description_tooltip": null,
            "_model_module": "@jupyter-widgets/controls",
            "layout": "IPY_MODEL_fe50d39efea847b0835c93c493dfbcb2"
          }
        },
        "8963908cd9b44a62a552cd559d41eed5": {
          "model_module": "@jupyter-widgets/controls",
          "model_name": "HTMLModel",
          "state": {
            "_view_name": "HTMLView",
            "style": "IPY_MODEL_fbbc6f566e29471d88a1f2e7500ee6fc",
            "_dom_classes": [],
            "description": "",
            "_model_name": "HTMLModel",
            "placeholder": "​",
            "_view_module": "@jupyter-widgets/controls",
            "_model_module_version": "1.5.0",
            "value": " 9572/9572 [20:24&lt;00:00,  7.82it/s]",
            "_view_count": null,
            "_view_module_version": "1.5.0",
            "description_tooltip": null,
            "_model_module": "@jupyter-widgets/controls",
            "layout": "IPY_MODEL_b291d575ec46451080168614551170b8"
          }
        },
        "62b6f6e191fe4da5b9a081f9c465bc09": {
          "model_module": "@jupyter-widgets/controls",
          "model_name": "ProgressStyleModel",
          "state": {
            "_view_name": "StyleView",
            "_model_name": "ProgressStyleModel",
            "description_width": "initial",
            "_view_module": "@jupyter-widgets/base",
            "_model_module_version": "1.5.0",
            "_view_count": null,
            "_view_module_version": "1.2.0",
            "bar_color": null,
            "_model_module": "@jupyter-widgets/controls"
          }
        },
        "fe50d39efea847b0835c93c493dfbcb2": {
          "model_module": "@jupyter-widgets/base",
          "model_name": "LayoutModel",
          "state": {
            "_view_name": "LayoutView",
            "grid_template_rows": null,
            "right": null,
            "justify_content": null,
            "_view_module": "@jupyter-widgets/base",
            "overflow": null,
            "_model_module_version": "1.2.0",
            "_view_count": null,
            "flex_flow": null,
            "width": null,
            "min_width": null,
            "border": null,
            "align_items": null,
            "bottom": null,
            "_model_module": "@jupyter-widgets/base",
            "top": null,
            "grid_column": null,
            "overflow_y": null,
            "overflow_x": null,
            "grid_auto_flow": null,
            "grid_area": null,
            "grid_template_columns": null,
            "flex": null,
            "_model_name": "LayoutModel",
            "justify_items": null,
            "grid_row": null,
            "max_height": null,
            "align_content": null,
            "visibility": null,
            "align_self": null,
            "height": null,
            "min_height": null,
            "padding": null,
            "grid_auto_rows": null,
            "grid_gap": null,
            "max_width": null,
            "order": null,
            "_view_module_version": "1.2.0",
            "grid_template_areas": null,
            "object_position": null,
            "object_fit": null,
            "grid_auto_columns": null,
            "margin": null,
            "display": null,
            "left": null
          }
        },
        "fbbc6f566e29471d88a1f2e7500ee6fc": {
          "model_module": "@jupyter-widgets/controls",
          "model_name": "DescriptionStyleModel",
          "state": {
            "_view_name": "StyleView",
            "_model_name": "DescriptionStyleModel",
            "description_width": "",
            "_view_module": "@jupyter-widgets/base",
            "_model_module_version": "1.5.0",
            "_view_count": null,
            "_view_module_version": "1.2.0",
            "_model_module": "@jupyter-widgets/controls"
          }
        },
        "b291d575ec46451080168614551170b8": {
          "model_module": "@jupyter-widgets/base",
          "model_name": "LayoutModel",
          "state": {
            "_view_name": "LayoutView",
            "grid_template_rows": null,
            "right": null,
            "justify_content": null,
            "_view_module": "@jupyter-widgets/base",
            "overflow": null,
            "_model_module_version": "1.2.0",
            "_view_count": null,
            "flex_flow": null,
            "width": null,
            "min_width": null,
            "border": null,
            "align_items": null,
            "bottom": null,
            "_model_module": "@jupyter-widgets/base",
            "top": null,
            "grid_column": null,
            "overflow_y": null,
            "overflow_x": null,
            "grid_auto_flow": null,
            "grid_area": null,
            "grid_template_columns": null,
            "flex": null,
            "_model_name": "LayoutModel",
            "justify_items": null,
            "grid_row": null,
            "max_height": null,
            "align_content": null,
            "visibility": null,
            "align_self": null,
            "height": null,
            "min_height": null,
            "padding": null,
            "grid_auto_rows": null,
            "grid_gap": null,
            "max_width": null,
            "order": null,
            "_view_module_version": "1.2.0",
            "grid_template_areas": null,
            "object_position": null,
            "object_fit": null,
            "grid_auto_columns": null,
            "margin": null,
            "display": null,
            "left": null
          }
        },
        "bdfcff4e9ec54cff8419ae2878e63eca": {
          "model_module": "@jupyter-widgets/controls",
          "model_name": "HBoxModel",
          "state": {
            "_view_name": "HBoxView",
            "_dom_classes": [],
            "_model_name": "HBoxModel",
            "_view_module": "@jupyter-widgets/controls",
            "_model_module_version": "1.5.0",
            "_view_count": null,
            "_view_module_version": "1.5.0",
            "box_style": "",
            "layout": "IPY_MODEL_de8c63a4df7c4e82865105ce11359067",
            "_model_module": "@jupyter-widgets/controls",
            "children": [
              "IPY_MODEL_1c3b17aaa18d4b98a4dfa7d71631b938",
              "IPY_MODEL_ee558b8c05d44b3a9c907ceb91cc7904"
            ]
          }
        },
        "de8c63a4df7c4e82865105ce11359067": {
          "model_module": "@jupyter-widgets/base",
          "model_name": "LayoutModel",
          "state": {
            "_view_name": "LayoutView",
            "grid_template_rows": null,
            "right": null,
            "justify_content": null,
            "_view_module": "@jupyter-widgets/base",
            "overflow": null,
            "_model_module_version": "1.2.0",
            "_view_count": null,
            "flex_flow": null,
            "width": null,
            "min_width": null,
            "border": null,
            "align_items": null,
            "bottom": null,
            "_model_module": "@jupyter-widgets/base",
            "top": null,
            "grid_column": null,
            "overflow_y": null,
            "overflow_x": null,
            "grid_auto_flow": null,
            "grid_area": null,
            "grid_template_columns": null,
            "flex": null,
            "_model_name": "LayoutModel",
            "justify_items": null,
            "grid_row": null,
            "max_height": null,
            "align_content": null,
            "visibility": null,
            "align_self": null,
            "height": null,
            "min_height": null,
            "padding": null,
            "grid_auto_rows": null,
            "grid_gap": null,
            "max_width": null,
            "order": null,
            "_view_module_version": "1.2.0",
            "grid_template_areas": null,
            "object_position": null,
            "object_fit": null,
            "grid_auto_columns": null,
            "margin": null,
            "display": null,
            "left": null
          }
        },
        "1c3b17aaa18d4b98a4dfa7d71631b938": {
          "model_module": "@jupyter-widgets/controls",
          "model_name": "FloatProgressModel",
          "state": {
            "_view_name": "ProgressView",
            "style": "IPY_MODEL_ef46bd0a2b554b1f96f30da2f8be5924",
            "_dom_classes": [],
            "description": "  8%",
            "_model_name": "FloatProgressModel",
            "bar_style": "",
            "max": 38287,
            "_view_module": "@jupyter-widgets/controls",
            "_model_module_version": "1.5.0",
            "value": 3252,
            "_view_count": null,
            "_view_module_version": "1.5.0",
            "orientation": "horizontal",
            "min": 0,
            "description_tooltip": null,
            "_model_module": "@jupyter-widgets/controls",
            "layout": "IPY_MODEL_ecf3353c7d444454b5449d291453e5ec"
          }
        },
        "ee558b8c05d44b3a9c907ceb91cc7904": {
          "model_module": "@jupyter-widgets/controls",
          "model_name": "HTMLModel",
          "state": {
            "_view_name": "HTMLView",
            "style": "IPY_MODEL_3608fdaf70194016a1afab86ff5bc569",
            "_dom_classes": [],
            "description": "",
            "_model_name": "HTMLModel",
            "placeholder": "​",
            "_view_module": "@jupyter-widgets/controls",
            "_model_module_version": "1.5.0",
            "value": " 3252/38287 [20:55&lt;3:45:21,  2.59it/s]",
            "_view_count": null,
            "_view_module_version": "1.5.0",
            "description_tooltip": null,
            "_model_module": "@jupyter-widgets/controls",
            "layout": "IPY_MODEL_e6a61c0a79c44014a60c14b59dc180fc"
          }
        },
        "ef46bd0a2b554b1f96f30da2f8be5924": {
          "model_module": "@jupyter-widgets/controls",
          "model_name": "ProgressStyleModel",
          "state": {
            "_view_name": "StyleView",
            "_model_name": "ProgressStyleModel",
            "description_width": "initial",
            "_view_module": "@jupyter-widgets/base",
            "_model_module_version": "1.5.0",
            "_view_count": null,
            "_view_module_version": "1.2.0",
            "bar_color": null,
            "_model_module": "@jupyter-widgets/controls"
          }
        },
        "ecf3353c7d444454b5449d291453e5ec": {
          "model_module": "@jupyter-widgets/base",
          "model_name": "LayoutModel",
          "state": {
            "_view_name": "LayoutView",
            "grid_template_rows": null,
            "right": null,
            "justify_content": null,
            "_view_module": "@jupyter-widgets/base",
            "overflow": null,
            "_model_module_version": "1.2.0",
            "_view_count": null,
            "flex_flow": null,
            "width": null,
            "min_width": null,
            "border": null,
            "align_items": null,
            "bottom": null,
            "_model_module": "@jupyter-widgets/base",
            "top": null,
            "grid_column": null,
            "overflow_y": null,
            "overflow_x": null,
            "grid_auto_flow": null,
            "grid_area": null,
            "grid_template_columns": null,
            "flex": null,
            "_model_name": "LayoutModel",
            "justify_items": null,
            "grid_row": null,
            "max_height": null,
            "align_content": null,
            "visibility": null,
            "align_self": null,
            "height": null,
            "min_height": null,
            "padding": null,
            "grid_auto_rows": null,
            "grid_gap": null,
            "max_width": null,
            "order": null,
            "_view_module_version": "1.2.0",
            "grid_template_areas": null,
            "object_position": null,
            "object_fit": null,
            "grid_auto_columns": null,
            "margin": null,
            "display": null,
            "left": null
          }
        },
        "3608fdaf70194016a1afab86ff5bc569": {
          "model_module": "@jupyter-widgets/controls",
          "model_name": "DescriptionStyleModel",
          "state": {
            "_view_name": "StyleView",
            "_model_name": "DescriptionStyleModel",
            "description_width": "",
            "_view_module": "@jupyter-widgets/base",
            "_model_module_version": "1.5.0",
            "_view_count": null,
            "_view_module_version": "1.2.0",
            "_model_module": "@jupyter-widgets/controls"
          }
        },
        "e6a61c0a79c44014a60c14b59dc180fc": {
          "model_module": "@jupyter-widgets/base",
          "model_name": "LayoutModel",
          "state": {
            "_view_name": "LayoutView",
            "grid_template_rows": null,
            "right": null,
            "justify_content": null,
            "_view_module": "@jupyter-widgets/base",
            "overflow": null,
            "_model_module_version": "1.2.0",
            "_view_count": null,
            "flex_flow": null,
            "width": null,
            "min_width": null,
            "border": null,
            "align_items": null,
            "bottom": null,
            "_model_module": "@jupyter-widgets/base",
            "top": null,
            "grid_column": null,
            "overflow_y": null,
            "overflow_x": null,
            "grid_auto_flow": null,
            "grid_area": null,
            "grid_template_columns": null,
            "flex": null,
            "_model_name": "LayoutModel",
            "justify_items": null,
            "grid_row": null,
            "max_height": null,
            "align_content": null,
            "visibility": null,
            "align_self": null,
            "height": null,
            "min_height": null,
            "padding": null,
            "grid_auto_rows": null,
            "grid_gap": null,
            "max_width": null,
            "order": null,
            "_view_module_version": "1.2.0",
            "grid_template_areas": null,
            "object_position": null,
            "object_fit": null,
            "grid_auto_columns": null,
            "margin": null,
            "display": null,
            "left": null
          }
        }
      }
    },
    "accelerator": "GPU"
  },
  "cells": [
    {
      "cell_type": "code",
      "metadata": {
        "id": "tPnFeEsHkJ5l",
        "colab": {
          "base_uri": "https://localhost:8080/"
        },
        "outputId": "e1333b9d-3b7b-4b2c-a9b6-6cf4ef81d018"
      },
      "source": [
        "from google.colab import drive\n",
        "drive.mount('/content/drive')"
      ],
      "execution_count": null,
      "outputs": [
        {
          "output_type": "stream",
          "text": [
            "Mounted at /content/drive\n"
          ],
          "name": "stdout"
        }
      ]
    },
    {
      "cell_type": "code",
      "metadata": {
        "id": "HterEvtVkTxR"
      },
      "source": [
        "!pip install mxnet\n",
        "!pip install gluonnlp pandas tqdm\n",
        "!pip install sentencepiece\n",
        "!pip install torch\n",
        "# pip install transformers \n",
        "# -> 변경 : 최신 버전으로 설치하면 \"Input: must be Tensor, not str\" 라는 에러 발생 \n",
        "!pip install transformers==3"
      ],
      "execution_count": null,
      "outputs": []
    },
    {
      "cell_type": "code",
      "metadata": {
        "id": "Y2B4cVIHkTxr",
        "colab": {
          "base_uri": "https://localhost:8080/"
        },
        "outputId": "40f6d064-e277-4338-8630-f5ff9704a7b4"
      },
      "source": [
        "!pip install git+https://git@github.com/SKTBrain/KoBERT.git@master"
      ],
      "execution_count": null,
      "outputs": [
        {
          "output_type": "stream",
          "text": [
            "Collecting git+https://****@github.com/SKTBrain/KoBERT.git@master\n",
            "  Cloning https://****@github.com/SKTBrain/KoBERT.git (to revision master) to /tmp/pip-req-build-f6xxd0k4\n",
            "  Running command git clone -q 'https://****@github.com/SKTBrain/KoBERT.git' /tmp/pip-req-build-f6xxd0k4\n",
            "Building wheels for collected packages: kobert\n",
            "  Building wheel for kobert (setup.py) ... \u001b[?25l\u001b[?25hdone\n",
            "  Created wheel for kobert: filename=kobert-0.1.2-cp37-none-any.whl size=12708 sha256=fbd3fdb7cb01c20ce69604a3b0ceee0324c875cb285d2741afc75780a49fffa2\n",
            "  Stored in directory: /tmp/pip-ephem-wheel-cache-ld50jn6f/wheels/a2/b0/41/435ee4e918f91918be41529283c5ff86cd010f02e7525aecf3\n",
            "Successfully built kobert\n",
            "Installing collected packages: kobert\n",
            "Successfully installed kobert-0.1.2\n"
          ],
          "name": "stdout"
        }
      ]
    },
    {
      "cell_type": "code",
      "metadata": {
        "id": "iP9u7SL9kTxt"
      },
      "source": [
        "import torch\n",
        "from torch import nn\n",
        "import torch.nn.functional as F\n",
        "import torch.optim as optim\n",
        "from torch.utils.data import Dataset, DataLoader\n",
        "import gluonnlp as nlp\n",
        "import numpy as np\n",
        "from tqdm import tqdm, tqdm_notebook"
      ],
      "execution_count": null,
      "outputs": []
    },
    {
      "cell_type": "code",
      "metadata": {
        "id": "flcuK1q2kTxu"
      },
      "source": [
        "from kobert.utils import get_tokenizer\n",
        "from kobert.pytorch_kobert import get_pytorch_kobert_model"
      ],
      "execution_count": null,
      "outputs": []
    },
    {
      "cell_type": "code",
      "metadata": {
        "id": "KUBzFB9AkTxv"
      },
      "source": [
        "from transformers import AdamW\n",
        "from transformers.optimization import get_cosine_schedule_with_warmup"
      ],
      "execution_count": null,
      "outputs": []
    },
    {
      "cell_type": "code",
      "metadata": {
        "id": "phiYw5cgkTxx"
      },
      "source": [
        "# GPU 사용 시\n",
        "# device = torch.device(\"cuda:0\")\n",
        "device = torch.device('cuda:0' if torch.cuda.is_available() else 'cpu')"
      ],
      "execution_count": null,
      "outputs": []
    },
    {
      "cell_type": "code",
      "metadata": {
        "colab": {
          "base_uri": "https://localhost:8080/"
        },
        "id": "ZgqDgPGpkTxz",
        "outputId": "c89cfaa8-c904-4192-92fd-f30c176c331e"
      },
      "source": [
        "bertmodel, vocab = get_pytorch_kobert_model() "
      ],
      "execution_count": null,
      "outputs": [
        {
          "output_type": "stream",
          "text": [
            "[██████████████████████████████████████████████████]\n",
            "[██████████████████████████████████████████████████]\n"
          ],
          "name": "stdout"
        }
      ]
    },
    {
      "cell_type": "code",
      "metadata": {
        "colab": {
          "base_uri": "https://localhost:8080/"
        },
        "id": "cuzsioD3a2Pu",
        "outputId": "ba37d6c3-fa39-4f7e-d387-2ea093a44657"
      },
      "source": [
        "vocab"
      ],
      "execution_count": null,
      "outputs": [
        {
          "output_type": "execute_result",
          "data": {
            "text/plain": [
              "Vocab(size=8002, unk=\"[UNK]\", reserved=\"['[CLS]', '[SEP]', '[MASK]', '[PAD]']\")"
            ]
          },
          "metadata": {
            "tags": []
          },
          "execution_count": 9
        }
      ]
    },
    {
      "cell_type": "markdown",
      "metadata": {
        "id": "KXKPUKttGXBG"
      },
      "source": [
        "# 데이터 확인"
      ]
    },
    {
      "cell_type": "code",
      "metadata": {
        "id": "VkcZV6ne0WhP"
      },
      "source": [
        "import pandas as pd\n",
        "\n",
        "data = pd.read_csv('/content/drive/MyDrive/KED 공모전/Data/embedding/noun_extracted_train_without_OOV.txt',sep='\\t',encoding = \"UTF-8\")"
      ],
      "execution_count": null,
      "outputs": []
    },
    {
      "cell_type": "code",
      "metadata": {
        "id": "FPhIOPAJ3AE9"
      },
      "source": [
        "import ast\n",
        "\n",
        "data['BZ_PPOS_ITM_CTT'] = data['BZ_PPOS_ITM_CTT'].apply(lambda x : ast.literal_eval(x))\n",
        "data['BZ_PPOS_ITM_CTT'] = data['BZ_PPOS_ITM_CTT'].apply(lambda x : \" \".join(x))"
      ],
      "execution_count": null,
      "outputs": []
    },
    {
      "cell_type": "code",
      "metadata": {
        "colab": {
          "base_uri": "https://localhost:8080/",
          "height": 402
        },
        "id": "EO7uKCE-EOxs",
        "outputId": "1fc7e240-5e82-45cb-a01d-24b5bd6b14b8"
      },
      "source": [
        "data"
      ],
      "execution_count": null,
      "outputs": [
        {
          "output_type": "execute_result",
          "data": {
            "text/html": [
              "<div>\n",
              "<style scoped>\n",
              "    .dataframe tbody tr th:only-of-type {\n",
              "        vertical-align: middle;\n",
              "    }\n",
              "\n",
              "    .dataframe tbody tr th {\n",
              "        vertical-align: top;\n",
              "    }\n",
              "\n",
              "    .dataframe thead th {\n",
              "        text-align: right;\n",
              "    }\n",
              "</style>\n",
              "<table border=\"1\" class=\"dataframe\">\n",
              "  <thead>\n",
              "    <tr style=\"text-align: right;\">\n",
              "      <th></th>\n",
              "      <th>BZ_PPOS_ITM_CTT</th>\n",
              "      <th>KSIC10_BZC_CD</th>\n",
              "    </tr>\n",
              "  </thead>\n",
              "  <tbody>\n",
              "    <tr>\n",
              "      <th>0</th>\n",
              "      <td>창고업 서비스업 부동산 임대업 자동차 부품 제조업</td>\n",
              "      <td>G45211</td>\n",
              "    </tr>\n",
              "    <tr>\n",
              "      <th>1</th>\n",
              "      <td>인쇄업 부동산 임대업 종이 가방 종이 쇼핑백 종이 상자 비닐 가방 비닐 쇼핑백 도매...</td>\n",
              "      <td>C17221</td>\n",
              "    </tr>\n",
              "    <tr>\n",
              "      <th>2</th>\n",
              "      <td>의류 피혁 완구 완 농 외 식품 기타 각종 일용품 제조 가공 사업 각종 오락장 식음...</td>\n",
              "      <td>G47111</td>\n",
              "    </tr>\n",
              "    <tr>\n",
              "      <th>3</th>\n",
              "      <td>방식 기계 기기 제작 재료 판매업 방 그 관련 제반 사업 전자 제품 생산 판매업 물...</td>\n",
              "      <td>F42311</td>\n",
              "    </tr>\n",
              "    <tr>\n",
              "      <th>4</th>\n",
              "      <td>금속 비금속 광물 채광 자원 개발 제련 판매 금속 비금속 합금 가공 제품 제조 판매...</td>\n",
              "      <td>C24211</td>\n",
              "    </tr>\n",
              "    <tr>\n",
              "      <th>...</th>\n",
              "      <td>...</td>\n",
              "      <td>...</td>\n",
              "    </tr>\n",
              "    <tr>\n",
              "      <th>1531451</th>\n",
              "      <td>가구 내 고용 활동</td>\n",
              "      <td>S96999</td>\n",
              "    </tr>\n",
              "    <tr>\n",
              "      <th>1531452</th>\n",
              "      <td>자 소비 가사 생산 활동</td>\n",
              "      <td>T97000</td>\n",
              "    </tr>\n",
              "    <tr>\n",
              "      <th>1531453</th>\n",
              "      <td>자 소비 가사 서비스 활동</td>\n",
              "      <td>T98100</td>\n",
              "    </tr>\n",
              "    <tr>\n",
              "      <th>1531454</th>\n",
              "      <td>주한 외국 공관</td>\n",
              "      <td>T98200</td>\n",
              "    </tr>\n",
              "    <tr>\n",
              "      <th>1531455</th>\n",
              "      <td>기타 국제 외국 기관</td>\n",
              "      <td>U99001</td>\n",
              "    </tr>\n",
              "  </tbody>\n",
              "</table>\n",
              "<p>1531456 rows × 2 columns</p>\n",
              "</div>"
            ],
            "text/plain": [
              "                                           BZ_PPOS_ITM_CTT KSIC10_BZC_CD\n",
              "0                              창고업 서비스업 부동산 임대업 자동차 부품 제조업        G45211\n",
              "1        인쇄업 부동산 임대업 종이 가방 종이 쇼핑백 종이 상자 비닐 가방 비닐 쇼핑백 도매...        C17221\n",
              "2        의류 피혁 완구 완 농 외 식품 기타 각종 일용품 제조 가공 사업 각종 오락장 식음...        G47111\n",
              "3        방식 기계 기기 제작 재료 판매업 방 그 관련 제반 사업 전자 제품 생산 판매업 물...        F42311\n",
              "4        금속 비금속 광물 채광 자원 개발 제련 판매 금속 비금속 합금 가공 제품 제조 판매...        C24211\n",
              "...                                                    ...           ...\n",
              "1531451                                         가구 내 고용 활동        S96999\n",
              "1531452                                      자 소비 가사 생산 활동        T97000\n",
              "1531453                                     자 소비 가사 서비스 활동        T98100\n",
              "1531454                                           주한 외국 공관        T98200\n",
              "1531455                                        기타 국제 외국 기관        U99001\n",
              "\n",
              "[1531456 rows x 2 columns]"
            ]
          },
          "metadata": {
            "tags": []
          },
          "execution_count": 14
        }
      ]
    },
    {
      "cell_type": "code",
      "metadata": {
        "id": "v7Kdc8bYpEO3",
        "colab": {
          "base_uri": "https://localhost:8080/",
          "height": 195
        },
        "outputId": "1c1b0bcc-c063-44c8-94e6-e4b534935af2"
      },
      "source": [
        "data['KSIC10_BZC_CD'] = data['KSIC10_BZC_CD'].astype(str)\n",
        "\n",
        "from sklearn.preprocessing import LabelEncoder \n",
        "encoder = LabelEncoder() \n",
        "encoder.fit(data['KSIC10_BZC_CD']) \n",
        "data['KSIC10_BZC_CD'] = encoder.transform(data['KSIC10_BZC_CD']) \n",
        "data.head()"
      ],
      "execution_count": null,
      "outputs": [
        {
          "output_type": "execute_result",
          "data": {
            "text/html": [
              "<div>\n",
              "<style scoped>\n",
              "    .dataframe tbody tr th:only-of-type {\n",
              "        vertical-align: middle;\n",
              "    }\n",
              "\n",
              "    .dataframe tbody tr th {\n",
              "        vertical-align: top;\n",
              "    }\n",
              "\n",
              "    .dataframe thead th {\n",
              "        text-align: right;\n",
              "    }\n",
              "</style>\n",
              "<table border=\"1\" class=\"dataframe\">\n",
              "  <thead>\n",
              "    <tr style=\"text-align: right;\">\n",
              "      <th></th>\n",
              "      <th>BZ_PPOS_ITM_CTT</th>\n",
              "      <th>KSIC10_BZC_CD</th>\n",
              "    </tr>\n",
              "  </thead>\n",
              "  <tbody>\n",
              "    <tr>\n",
              "      <th>0</th>\n",
              "      <td>창고업 서비스업 부동산 임대업 자동차 부품 제조업</td>\n",
              "      <td>597</td>\n",
              "    </tr>\n",
              "    <tr>\n",
              "      <th>1</th>\n",
              "      <td>인쇄업 부동산 임대업 종이 가방 종이 쇼핑백 종이 상자 비닐 가방 비닐 쇼핑백 도매...</td>\n",
              "      <td>171</td>\n",
              "    </tr>\n",
              "    <tr>\n",
              "      <th>2</th>\n",
              "      <td>의류 피혁 완구 완 농 외 식품 기타 각종 일용품 제조 가공 사업 각종 오락장 식음...</td>\n",
              "      <td>700</td>\n",
              "    </tr>\n",
              "    <tr>\n",
              "      <th>3</th>\n",
              "      <td>방식 기계 기기 제작 재료 판매업 방 그 관련 제반 사업 전자 제품 생산 판매업 물...</td>\n",
              "      <td>583</td>\n",
              "    </tr>\n",
              "    <tr>\n",
              "      <th>4</th>\n",
              "      <td>금속 비금속 광물 채광 자원 개발 제련 판매 금속 비금속 합금 가공 제품 제조 판매...</td>\n",
              "      <td>296</td>\n",
              "    </tr>\n",
              "  </tbody>\n",
              "</table>\n",
              "</div>"
            ],
            "text/plain": [
              "                                     BZ_PPOS_ITM_CTT  KSIC10_BZC_CD\n",
              "0                        창고업 서비스업 부동산 임대업 자동차 부품 제조업            597\n",
              "1  인쇄업 부동산 임대업 종이 가방 종이 쇼핑백 종이 상자 비닐 가방 비닐 쇼핑백 도매...            171\n",
              "2  의류 피혁 완구 완 농 외 식품 기타 각종 일용품 제조 가공 사업 각종 오락장 식음...            700\n",
              "3  방식 기계 기기 제작 재료 판매업 방 그 관련 제반 사업 전자 제품 생산 판매업 물...            583\n",
              "4  금속 비금속 광물 채광 자원 개발 제련 판매 금속 비금속 합금 가공 제품 제조 판매...            296"
            ]
          },
          "metadata": {
            "tags": []
          },
          "execution_count": 15
        }
      ]
    },
    {
      "cell_type": "code",
      "metadata": {
        "id": "mSPkxtkcpeeg"
      },
      "source": [
        "# 인코딩 결과 확인\n",
        "mapping = dict(zip(range(len(encoder.classes_)), encoder.classes_)) \n",
        "mapping"
      ],
      "execution_count": null,
      "outputs": []
    },
    {
      "cell_type": "code",
      "metadata": {
        "id": "qbKumdZ7t8It",
        "colab": {
          "base_uri": "https://localhost:8080/"
        },
        "outputId": "260ccb25-b82e-4621-87dd-8e9974ab9721"
      },
      "source": [
        "len(data['KSIC10_BZC_CD'].unique())"
      ],
      "execution_count": null,
      "outputs": [
        {
          "output_type": "execute_result",
          "data": {
            "text/plain": [
              "1196"
            ]
          },
          "metadata": {
            "tags": []
          },
          "execution_count": 17
        }
      ]
    },
    {
      "cell_type": "code",
      "metadata": {
        "id": "hnI7UFlsFhYP",
        "colab": {
          "base_uri": "https://localhost:8080/"
        },
        "outputId": "f37b6e78-a1c6-40e6-9c9b-187ac6568195"
      },
      "source": [
        "from sklearn.model_selection import train_test_split \n",
        "dataset_train, dataset_test = train_test_split(data , test_size=0.2, random_state=42) \n",
        "\n",
        "print(\"train shape is:\", dataset_train.shape) \n",
        "print(\"test shape is:\", dataset_test.shape)"
      ],
      "execution_count": null,
      "outputs": [
        {
          "output_type": "stream",
          "text": [
            "train shape is: (1225164, 2)\n",
            "test shape is: (306292, 2)\n"
          ],
          "name": "stdout"
        }
      ]
    },
    {
      "cell_type": "markdown",
      "metadata": {
        "id": "bJniw6SNFsMa"
      },
      "source": [
        "# BERT"
      ]
    },
    {
      "cell_type": "code",
      "metadata": {
        "id": "rgazaCpskTx2",
        "colab": {
          "base_uri": "https://localhost:8080/"
        },
        "outputId": "7276f5b3-9cc6-4df3-fa36-a3f7d4361f3f"
      },
      "source": [
        "tokenizer = get_tokenizer() #Tokenizer for the sentences.\n",
        "tok = nlp.data.BERTSPTokenizer(tokenizer, vocab, lower=False) # vocab : The vocabulary which has cls_token and sep_token registered."
      ],
      "execution_count": null,
      "outputs": [
        {
          "output_type": "stream",
          "text": [
            "using cached model\n"
          ],
          "name": "stdout"
        }
      ]
    },
    {
      "cell_type": "code",
      "metadata": {
        "id": "Z8LvZw0mkTx3"
      },
      "source": [
        "class BERTDataset(Dataset):\n",
        "  def __init__(self, dataset,bert_tokenizer, max_len,pad, pair):\n",
        "    # https://nlp.gluon.ai/api/modules/data.html#gluonnlp.data.BERTSentenceTransform\n",
        "    transform = nlp.data.BERTSentenceTransform(bert_tokenizer, max_seq_length=max_len, pad=pad, pair=pair)\n",
        "    # transform의 return : \n",
        "    # np.array (input token ids in ‘int32’, shape (batch_size, seq_length))\n",
        "    # np.array (valid length in ‘int32’, shape (batch_size,))\n",
        "    # np.array (input token type ids in ‘int32’, shape (batch_size, seq_length))\n",
        "\n",
        "    self.sentences = [transform([i]) for i in dataset['BZ_PPOS_ITM_CTT']] #sentence 넣는 곳\n",
        "    self.labels = [np.int32(i) for i in dataset['KSIC10_BZC_CD']] #label 넣는 곳\n",
        "\n",
        "  def __getitem__(self, i):\n",
        "      return (self.sentences[i] + (self.labels[i], ))\n",
        "\n",
        "  def __len__(self):\n",
        "      return (len(self.labels))\n"
      ],
      "execution_count": null,
      "outputs": []
    },
    {
      "cell_type": "code",
      "metadata": {
        "id": "QYc-gIU_kTx6"
      },
      "source": [
        "## Setting parameters\n",
        "max_len = 128 # 해당 길이를 초과하는 단어에 대해선 bert가 학습하지 않음\n",
        "batch_size = 32\n",
        "warmup_ratio = 0.1\n",
        "num_epochs = 10\n",
        "max_grad_norm = 1\n",
        "log_interval = 200\n",
        "learning_rate =  5e-5"
      ],
      "execution_count": null,
      "outputs": []
    },
    {
      "cell_type": "code",
      "metadata": {
        "id": "ExOPK5ImkTx7"
      },
      "source": [
        "# 데이터를 bert 모델에서 사용할 수 있도록 transform 시켜주는 코드\n",
        "# token_ids, valid_length, segment_ids, label 을 리턴!\n",
        "data_train = BERTDataset(dataset_train, tok, max_len, True, False)\n",
        "data_test = BERTDataset(dataset_test, tok, max_len, True, False)"
      ],
      "execution_count": null,
      "outputs": []
    },
    {
      "cell_type": "code",
      "metadata": {
        "id": "2Q0-_hiXafzb",
        "colab": {
          "base_uri": "https://localhost:8080/"
        },
        "outputId": "7d329f2e-9bce-41b3-fd5a-86b41beb9364"
      },
      "source": [
        "data_train[825164]"
      ],
      "execution_count": null,
      "outputs": [
        {
          "output_type": "execute_result",
          "data": {
            "text/plain": [
              "(array([   2, 4049, 2459,  517, 5859, 2822, 6168, 6873, 4049, 2459, 1083,\n",
              "        2114, 6873, 4049, 2459, 4152,  993, 6705, 7020, 3517, 3260, 2852,\n",
              "         839, 3260,    3,    1,    1,    1,    1,    1,    1,    1,    1,\n",
              "           1,    1,    1,    1,    1,    1,    1,    1,    1,    1,    1,\n",
              "           1,    1,    1,    1,    1,    1,    1,    1,    1,    1,    1,\n",
              "           1,    1,    1,    1,    1,    1,    1,    1,    1,    1,    1,\n",
              "           1,    1,    1,    1,    1,    1,    1,    1,    1,    1,    1,\n",
              "           1,    1,    1,    1,    1,    1,    1,    1,    1,    1,    1,\n",
              "           1,    1,    1,    1,    1,    1,    1,    1,    1,    1,    1,\n",
              "           1,    1,    1,    1,    1,    1,    1,    1,    1,    1,    1,\n",
              "           1,    1,    1,    1,    1,    1,    1,    1,    1,    1,    1,\n",
              "           1,    1,    1,    1,    1,    1,    1], dtype=int32),\n",
              " array(25, dtype=int32),\n",
              " array([0, 0, 0, 0, 0, 0, 0, 0, 0, 0, 0, 0, 0, 0, 0, 0, 0, 0, 0, 0, 0, 0,\n",
              "        0, 0, 0, 0, 0, 0, 0, 0, 0, 0, 0, 0, 0, 0, 0, 0, 0, 0, 0, 0, 0, 0,\n",
              "        0, 0, 0, 0, 0, 0, 0, 0, 0, 0, 0, 0, 0, 0, 0, 0, 0, 0, 0, 0, 0, 0,\n",
              "        0, 0, 0, 0, 0, 0, 0, 0, 0, 0, 0, 0, 0, 0, 0, 0, 0, 0, 0, 0, 0, 0,\n",
              "        0, 0, 0, 0, 0, 0, 0, 0, 0, 0, 0, 0, 0, 0, 0, 0, 0, 0, 0, 0, 0, 0,\n",
              "        0, 0, 0, 0, 0, 0, 0, 0, 0, 0, 0, 0, 0, 0, 0, 0, 0, 0], dtype=int32),\n",
              " 674)"
            ]
          },
          "metadata": {
            "tags": []
          },
          "execution_count": 23
        }
      ]
    },
    {
      "cell_type": "code",
      "metadata": {
        "id": "rqg-mjKlkTx9",
        "colab": {
          "base_uri": "https://localhost:8080/"
        },
        "outputId": "4835a81a-4f0d-4458-876b-d82ccaf98f97"
      },
      "source": [
        "train_dataloader = torch.utils.data.DataLoader(data_train, batch_size=batch_size, num_workers=5)\n",
        "test_dataloader = torch.utils.data.DataLoader(data_test, batch_size=batch_size, num_workers=5)"
      ],
      "execution_count": null,
      "outputs": [
        {
          "output_type": "stream",
          "text": [
            "/usr/local/lib/python3.7/dist-packages/torch/utils/data/dataloader.py:477: UserWarning: This DataLoader will create 5 worker processes in total. Our suggested max number of worker in current system is 4, which is smaller than what this DataLoader is going to create. Please be aware that excessive worker creation might get DataLoader running slow or even freeze, lower the worker number to avoid potential slowness/freeze if necessary.\n",
            "  cpuset_checked))\n"
          ],
          "name": "stderr"
        }
      ]
    },
    {
      "cell_type": "markdown",
      "metadata": {
        "id": "m83AEkOqib1G"
      },
      "source": [
        "![image.png](data:image/png;base64,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)"
      ]
    },
    {
      "cell_type": "markdown",
      "metadata": {
        "id": "X3nbmrFX6TY0"
      },
      "source": [
        "bert 모델을 거치고 나온 첫 토큰을 pooler 라고 네이밍. (the representation corresponding to the first token in the output is used for fine-tuning)\n",
        "이 pooler 결과를 받아 FC(fully connected) 레이어 하나를 추가해 bert model을 fine-tuning 할 수 있음. \n",
        "\n",
        "\n",
        "해당 그림에서\n",
        "\n",
        "* [C] : `pooler` 벡터\n",
        "* [C,T1,T2... ] : `sequence_output[N]` 벡터라고 할 수 있습니다:)"
      ]
    },
    {
      "cell_type": "code",
      "metadata": {
        "id": "zqVMkjkmkTx-"
      },
      "source": [
        "class BERTClassifier(nn.Module):\n",
        "    def __init__(self,\n",
        "                 bert,\n",
        "                 hidden_size = 768, # Dimensionality of the encoder layers and the pooler layer\n",
        "                 num_classes = 1196, # 분류할 class label의 개수                \n",
        "                 dr_rate=None,\n",
        "                 params=None):\n",
        "        super(BERTClassifier, self).__init__()\n",
        "        self.bert = bert\n",
        "        self.dr_rate = dr_rate\n",
        "                 \n",
        "        self.classifier = nn.Linear(hidden_size , num_classes)\n",
        "        if dr_rate:\n",
        "            self.dropout = nn.Dropout(p=dr_rate)\n",
        "    \n",
        "    def gen_attention_mask(self, token_ids, valid_length):\n",
        "        attention_mask = torch.zeros_like(token_ids)\n",
        "        for i, v in enumerate(valid_length):\n",
        "            attention_mask[i][:v] = 1\n",
        "        return attention_mask.float()\n",
        "\n",
        "    def forward(self, token_ids, valid_length, segment_ids):\n",
        "        attention_mask = self.gen_attention_mask(token_ids, valid_length)\n",
        "        \n",
        "        _, pooler = self.bert(input_ids = token_ids, token_type_ids = segment_ids.long(), attention_mask = attention_mask.float().to(token_ids.device))\n",
        "        if self.dr_rate:\n",
        "            out = self.dropout(pooler)\n",
        "        return self.classifier(out)"
      ],
      "execution_count": null,
      "outputs": []
    },
    {
      "cell_type": "code",
      "metadata": {
        "id": "o3h65YyZkTyB"
      },
      "source": [
        "model = BERTClassifier(bertmodel,  dr_rate=0.5).to(device)"
      ],
      "execution_count": null,
      "outputs": []
    },
    {
      "cell_type": "code",
      "metadata": {
        "id": "VBbNKib-kTyC"
      },
      "source": [
        "# Prepare optimizer and schedule (linear warmup and decay)\n",
        "no_decay = ['bias', 'LayerNorm.weight']\n",
        "optimizer_grouped_parameters = [\n",
        "    {'params': [p for n, p in model.named_parameters() if not any(nd in n for nd in no_decay)], 'weight_decay': 0.01},\n",
        "    {'params': [p for n, p in model.named_parameters() if any(nd in n for nd in no_decay)], 'weight_decay': 0.0}\n",
        "]"
      ],
      "execution_count": null,
      "outputs": []
    },
    {
      "cell_type": "code",
      "metadata": {
        "id": "E6itBxkLkTyF"
      },
      "source": [
        "optimizer = AdamW(optimizer_grouped_parameters, lr=learning_rate, eps = 1e-8) # 0으로 나누는 것을 방지하기 위한 epsilon 값\n",
        "loss_fn = nn.CrossEntropyLoss()"
      ],
      "execution_count": null,
      "outputs": []
    },
    {
      "cell_type": "code",
      "metadata": {
        "id": "RaPssVuNkTyF"
      },
      "source": [
        "t_total = len(train_dataloader) * num_epochs\n",
        "warmup_step = int(t_total * warmup_ratio)"
      ],
      "execution_count": null,
      "outputs": []
    },
    {
      "cell_type": "code",
      "metadata": {
        "id": "WmwsQDtRkTyG"
      },
      "source": [
        "scheduler = get_cosine_schedule_with_warmup(optimizer, num_warmup_steps=warmup_step, num_training_steps=t_total)"
      ],
      "execution_count": null,
      "outputs": []
    },
    {
      "cell_type": "code",
      "metadata": {
        "id": "IjydXVsAkTyG"
      },
      "source": [
        "def calc_accuracy(X,Y):\n",
        "    max_vals, max_indices = torch.max(X, 1)\n",
        "    train_acc = (max_indices == Y).sum().data.cpu().numpy()/max_indices.size()[0]\n",
        "    return train_acc"
      ],
      "execution_count": null,
      "outputs": []
    },
    {
      "cell_type": "code",
      "metadata": {
        "id": "vbAOOF59kTyH",
        "colab": {
          "base_uri": "https://localhost:8080/",
          "height": 1000,
          "referenced_widgets": [
            "76b14575647343f7bbfd28d91e1b8c64",
            "d28dfacead10432fb22e05ea9a40eed7",
            "0b8459f75b3e4f4a8aec1ce265c49dbe",
            "b5ea742e1ced470398b0c5f47f6dc442",
            "fd06f31da78e4d8d84a063bb6af88654",
            "5eb87e55461b400781d2015c0c2be0c1",
            "fad69e86a7f143c396793450989eb80d",
            "6a9eb31914d443d8a1f26a92570d0536",
            "74bc8f885c144150ba9a275cf7b4ce36",
            "b57d490d0c8b4596813bb393d1c9630d",
            "640b32707bab47849908673e292d8ef9",
            "8963908cd9b44a62a552cd559d41eed5",
            "62b6f6e191fe4da5b9a081f9c465bc09",
            "fe50d39efea847b0835c93c493dfbcb2",
            "fbbc6f566e29471d88a1f2e7500ee6fc",
            "b291d575ec46451080168614551170b8",
            "bdfcff4e9ec54cff8419ae2878e63eca",
            "de8c63a4df7c4e82865105ce11359067",
            "1c3b17aaa18d4b98a4dfa7d71631b938",
            "ee558b8c05d44b3a9c907ceb91cc7904",
            "ef46bd0a2b554b1f96f30da2f8be5924",
            "ecf3353c7d444454b5449d291453e5ec",
            "3608fdaf70194016a1afab86ff5bc569",
            "e6a61c0a79c44014a60c14b59dc180fc"
          ]
        },
        "outputId": "00595bd5-ebf1-48f0-90b1-fa6676357fb9"
      },
      "source": [
        "PATH = '/content/drive/MyDrive/KED 공모전/weights/'\n",
        "\n",
        "for e in range(num_epochs):\n",
        "    train_acc = 0.0\n",
        "    test_acc = 0.0\n",
        "    model.train() # eval -> train mode로 전환\n",
        "    for batch_id, (token_ids, valid_length, segment_ids, label) in enumerate(tqdm_notebook(train_dataloader)):\n",
        "        # optimizer.zero_grad()\n",
        "        token_ids = token_ids.long().to(device)\n",
        "        segment_ids = segment_ids.long().to(device)\n",
        "        valid_length= valid_length\n",
        "        label = label.long().to(device)\n",
        "        out = model(token_ids, valid_length, segment_ids)\n",
        "        loss = loss_fn(out, label)\n",
        "        loss.backward()\n",
        "        torch.nn.utils.clip_grad_norm_(model.parameters(), max_grad_norm)\n",
        "        optimizer.step()\n",
        "        scheduler.step()  # Update learning rate schedule\n",
        "        model.zero_grad()         # 그래디언트 초기화\n",
        "        train_acc += calc_accuracy(out, label)\n",
        "        if batch_id % log_interval == 0:\n",
        "            print(\"epoch {} batch id {} loss {} train acc {}\".format(e+1, batch_id+1, loss.data.cpu().numpy(), train_acc / (batch_id+1)))\n",
        "    print(\"epoch {} train acc {}\".format(e+1, train_acc / (batch_id+1)))\n",
        "    \n",
        "    model.eval() # train -> eval mode로 전환 (평가 모드는 훈련에 사용되는 드롭아웃 정규화(dropout regularization)를 해제한다.)\n",
        "    for batch_id, (token_ids, valid_length, segment_ids, label) in enumerate(tqdm_notebook(test_dataloader)):\n",
        "        token_ids = token_ids.long().to(device)\n",
        "        segment_ids = segment_ids.long().to(device)\n",
        "        valid_length= valid_length\n",
        "        label = label.long().to(device)\n",
        "        out = model(token_ids, valid_length, segment_ids)\n",
        "        test_acc += calc_accuracy(out, label)\n",
        "    print(\"epoch {} test acc {}\".format(e+1, test_acc / (batch_id+1)))\n",
        "\n",
        "    torch.save({\n",
        "     'epoch' : e+1,\n",
        "     'model_state_dict': model.state_dict(),\n",
        "     'optimizer_state_dict': optimizer.state_dict()\n",
        "     }, PATH + 'model_{}.tar'.format(e+1) )\n",
        "\n"
      ],
      "execution_count": null,
      "outputs": [
        {
          "output_type": "stream",
          "text": [
            "/usr/local/lib/python3.7/dist-packages/ipykernel_launcher.py:7: TqdmDeprecationWarning: This function will be removed in tqdm==5.0.0\n",
            "Please use `tqdm.notebook.tqdm` instead of `tqdm.tqdm_notebook`\n",
            "  import sys\n"
          ],
          "name": "stderr"
        },
        {
          "output_type": "display_data",
          "data": {
            "application/vnd.jupyter.widget-view+json": {
              "model_id": "76b14575647343f7bbfd28d91e1b8c64",
              "version_major": 2,
              "version_minor": 0
            },
            "text/plain": [
              "HBox(children=(FloatProgress(value=0.0, max=38287.0), HTML(value='')))"
            ]
          },
          "metadata": {
            "tags": []
          }
        },
        {
          "output_type": "stream",
          "text": [
            "/usr/local/lib/python3.7/dist-packages/torch/utils/data/dataloader.py:477: UserWarning: This DataLoader will create 5 worker processes in total. Our suggested max number of worker in current system is 4, which is smaller than what this DataLoader is going to create. Please be aware that excessive worker creation might get DataLoader running slow or even freeze, lower the worker number to avoid potential slowness/freeze if necessary.\n",
            "  cpuset_checked))\n"
          ],
          "name": "stderr"
        },
        {
          "output_type": "stream",
          "text": [
            "epoch 1 batch id 1 loss 6.698431491851807 train acc 0.03125\n",
            "epoch 1 batch id 201 loss 6.5675554275512695 train acc 0.04306592039800995\n",
            "epoch 1 batch id 401 loss 6.1411004066467285 train acc 0.04558915211970075\n",
            "epoch 1 batch id 601 loss 6.379662990570068 train acc 0.04430116472545757\n",
            "epoch 1 batch id 801 loss 6.169991493225098 train acc 0.04611423220973783\n",
            "epoch 1 batch id 1001 loss 6.130430221557617 train acc 0.048701298701298704\n",
            "epoch 1 batch id 1201 loss 5.9627814292907715 train acc 0.05183180682764363\n",
            "epoch 1 batch id 1401 loss 6.10211706161499 train acc 0.05397930049964311\n",
            "epoch 1 batch id 1601 loss 5.934279918670654 train acc 0.056546689569019364\n",
            "epoch 1 batch id 1801 loss 6.060150623321533 train acc 0.059897279289283734\n",
            "epoch 1 batch id 2001 loss 5.709214210510254 train acc 0.06329647676161919\n",
            "epoch 1 batch id 2201 loss 5.31351375579834 train acc 0.06712857791912767\n",
            "epoch 1 batch id 2401 loss 5.803654670715332 train acc 0.07075177009579342\n",
            "epoch 1 batch id 2601 loss 5.197199821472168 train acc 0.07541570549788543\n",
            "epoch 1 batch id 2801 loss 5.328618049621582 train acc 0.08058505890753302\n",
            "epoch 1 batch id 3001 loss 4.959261894226074 train acc 0.08687729090303233\n",
            "epoch 1 batch id 3201 loss 4.843317031860352 train acc 0.09221727585129647\n",
            "epoch 1 batch id 3401 loss 5.3945794105529785 train acc 0.0981329020876213\n",
            "epoch 1 batch id 3601 loss 5.348484992980957 train acc 0.10424187725631769\n",
            "epoch 1 batch id 3801 loss 4.9718146324157715 train acc 0.11024237042883452\n",
            "epoch 1 batch id 4001 loss 5.032899379730225 train acc 0.11631467133216696\n",
            "epoch 1 batch id 4201 loss 4.336295127868652 train acc 0.12205427279219233\n",
            "epoch 1 batch id 4401 loss 4.1270246505737305 train acc 0.12788996818904794\n",
            "epoch 1 batch id 4601 loss 4.657495498657227 train acc 0.13317757009345793\n",
            "epoch 1 batch id 4801 loss 4.797640323638916 train acc 0.13820688398250364\n",
            "epoch 1 batch id 5001 loss 4.9989142417907715 train acc 0.14355878824235152\n",
            "epoch 1 batch id 5201 loss 4.4481024742126465 train acc 0.148451019034801\n",
            "epoch 1 batch id 5401 loss 4.590337753295898 train acc 0.15303300314756527\n",
            "epoch 1 batch id 5601 loss 4.117892265319824 train acc 0.15766157828959115\n",
            "epoch 1 batch id 5801 loss 4.298517227172852 train acc 0.16262282365109465\n",
            "epoch 1 batch id 6001 loss 3.650310754776001 train acc 0.1672273371104816\n",
            "epoch 1 batch id 6201 loss 4.453108787536621 train acc 0.17141892436703757\n",
            "epoch 1 batch id 6401 loss 3.5494279861450195 train acc 0.1757293782221528\n",
            "epoch 1 batch id 6601 loss 3.9250686168670654 train acc 0.18011002120890773\n",
            "epoch 1 batch id 6801 loss 3.795037269592285 train acc 0.18404922070283783\n",
            "epoch 1 batch id 7001 loss 3.503331422805786 train acc 0.18800885587773175\n",
            "epoch 1 batch id 7201 loss 4.725649356842041 train acc 0.19184835439522288\n",
            "epoch 1 batch id 7401 loss 3.543003559112549 train acc 0.1958012430752601\n",
            "epoch 1 batch id 7601 loss 3.4909543991088867 train acc 0.1998092356268912\n",
            "epoch 1 batch id 7801 loss 3.4147536754608154 train acc 0.2037358992436867\n",
            "epoch 1 batch id 8001 loss 3.3256237506866455 train acc 0.2074154793150856\n",
            "epoch 1 batch id 8201 loss 4.1819257736206055 train acc 0.21106800999878064\n",
            "epoch 1 batch id 8401 loss 2.7695538997650146 train acc 0.2144982740149982\n",
            "epoch 1 batch id 8601 loss 3.42073655128479 train acc 0.21809237297988607\n",
            "epoch 1 batch id 8801 loss 4.565537929534912 train acc 0.2218213839336439\n",
            "epoch 1 batch id 9001 loss 3.7327640056610107 train acc 0.2251833129652261\n",
            "epoch 1 batch id 9201 loss 2.9161455631256104 train acc 0.22845003260515162\n",
            "epoch 1 batch id 9401 loss 3.7305476665496826 train acc 0.2318303903840017\n",
            "epoch 1 batch id 9601 loss 3.1535933017730713 train acc 0.23523916779502135\n",
            "epoch 1 batch id 9801 loss 2.768005847930908 train acc 0.23852795633098664\n",
            "epoch 1 batch id 10001 loss 3.9090347290039062 train acc 0.24182894210578942\n",
            "epoch 1 batch id 10201 loss 3.036583662033081 train acc 0.24513528085481814\n",
            "epoch 1 batch id 10401 loss 2.4719784259796143 train acc 0.24807109893279491\n",
            "epoch 1 batch id 10601 loss 3.5296225547790527 train acc 0.25112312517687013\n",
            "epoch 1 batch id 10801 loss 3.79557466506958 train acc 0.2540939496342931\n",
            "epoch 1 batch id 11001 loss 3.2676918506622314 train acc 0.257132874284156\n",
            "epoch 1 batch id 11201 loss 3.281039237976074 train acc 0.25970895455762877\n",
            "epoch 1 batch id 11401 loss 2.6313436031341553 train acc 0.2625263134812736\n",
            "epoch 1 batch id 11601 loss 2.604254722595215 train acc 0.2652680803379019\n",
            "epoch 1 batch id 11801 loss 2.7300631999969482 train acc 0.26772360393187017\n",
            "epoch 1 batch id 12001 loss 2.6117610931396484 train acc 0.2702483126406133\n",
            "epoch 1 batch id 12201 loss 2.7421438694000244 train acc 0.2727414761085157\n",
            "epoch 1 batch id 12401 loss 2.92154598236084 train acc 0.2751668212240948\n",
            "epoch 1 batch id 12601 loss 3.356557607650757 train acc 0.2775275771764146\n",
            "epoch 1 batch id 12801 loss 2.6562554836273193 train acc 0.27975597609561753\n",
            "epoch 1 batch id 13001 loss 3.2535488605499268 train acc 0.28215858395508037\n",
            "epoch 1 batch id 13201 loss 2.013173818588257 train acc 0.28445761684720855\n",
            "epoch 1 batch id 13401 loss 2.7861266136169434 train acc 0.2866856950973808\n",
            "epoch 1 batch id 13601 loss 2.8849432468414307 train acc 0.28891028233218147\n",
            "epoch 1 batch id 13801 loss 2.604541778564453 train acc 0.29106812912107816\n",
            "epoch 1 batch id 14001 loss 2.5489253997802734 train acc 0.2932223591172059\n",
            "epoch 1 batch id 14201 loss 2.8865773677825928 train acc 0.2953533201887191\n",
            "epoch 1 batch id 14401 loss 3.041882276535034 train acc 0.2975574612874106\n",
            "epoch 1 batch id 14601 loss 2.9165942668914795 train acc 0.2995663824395589\n",
            "epoch 1 batch id 14801 loss 2.4661519527435303 train acc 0.3015611276265117\n",
            "epoch 1 batch id 15001 loss 2.746300220489502 train acc 0.30349851676554895\n",
            "epoch 1 batch id 15201 loss 2.2751541137695312 train acc 0.3054157621209131\n",
            "epoch 1 batch id 15401 loss 2.0564801692962646 train acc 0.30737452113499125\n",
            "epoch 1 batch id 15601 loss 3.148099422454834 train acc 0.30917088648163576\n",
            "epoch 1 batch id 15801 loss 2.197709798812866 train acc 0.31100088601987214\n",
            "epoch 1 batch id 16001 loss 2.72886323928833 train acc 0.3128124804699706\n",
            "epoch 1 batch id 16201 loss 3.2538883686065674 train acc 0.31460056477995185\n",
            "epoch 1 batch id 16401 loss 3.1435365676879883 train acc 0.3162535820986525\n",
            "epoch 1 batch id 16601 loss 2.143958568572998 train acc 0.3178667700740919\n",
            "epoch 1 batch id 16801 loss 2.859025239944458 train acc 0.3195494315814535\n",
            "epoch 1 batch id 17001 loss 3.145878791809082 train acc 0.32128808599494146\n",
            "epoch 1 batch id 17201 loss 2.3891773223876953 train acc 0.32294452357421083\n",
            "epoch 1 batch id 17401 loss 2.5518805980682373 train acc 0.3245682719383943\n",
            "epoch 1 batch id 17601 loss 3.260230779647827 train acc 0.32625987159820463\n",
            "epoch 1 batch id 17801 loss 2.759469747543335 train acc 0.32773966350205047\n",
            "epoch 1 batch id 18001 loss 2.127868890762329 train acc 0.32918657296816844\n",
            "epoch 1 batch id 18201 loss 2.283151865005493 train acc 0.3307956980385693\n",
            "epoch 1 batch id 18401 loss 2.603379964828491 train acc 0.3323121026031194\n",
            "epoch 1 batch id 18601 loss 2.906748056411743 train acc 0.33384461856889414\n",
            "epoch 1 batch id 18801 loss 1.973300576210022 train acc 0.33537444816765066\n",
            "epoch 1 batch id 19001 loss 2.1519291400909424 train acc 0.336826022314615\n",
            "epoch 1 batch id 19201 loss 2.3853211402893066 train acc 0.33820666892349355\n",
            "epoch 1 batch id 19401 loss 2.7771623134613037 train acc 0.3396055615689913\n",
            "epoch 1 batch id 19601 loss 2.5521442890167236 train acc 0.34092170042344777\n",
            "epoch 1 batch id 19801 loss 1.5753790140151978 train acc 0.34222545578506136\n",
            "epoch 1 batch id 20001 loss 2.5013303756713867 train acc 0.3435687590620469\n",
            "epoch 1 batch id 20201 loss 2.3409512042999268 train acc 0.3448993861690015\n",
            "epoch 1 batch id 20401 loss 2.6048312187194824 train acc 0.34614265232096464\n",
            "epoch 1 batch id 20601 loss 1.8006882667541504 train acc 0.34747099655356534\n",
            "epoch 1 batch id 20801 loss 2.4181931018829346 train acc 0.3487272246526609\n",
            "epoch 1 batch id 21001 loss 1.990250587463379 train acc 0.3499773820294272\n",
            "epoch 1 batch id 21201 loss 2.3385043144226074 train acc 0.3511553110702325\n",
            "epoch 1 batch id 21401 loss 2.157053232192993 train acc 0.3523871548058502\n",
            "epoch 1 batch id 21601 loss 2.3311092853546143 train acc 0.35349491921670295\n",
            "epoch 1 batch id 21801 loss 1.9502004384994507 train acc 0.354705632769139\n",
            "epoch 1 batch id 22001 loss 2.5585527420043945 train acc 0.35582189445934276\n",
            "epoch 1 batch id 22201 loss 1.8743218183517456 train acc 0.3570348745552002\n",
            "epoch 1 batch id 22401 loss 1.4742811918258667 train acc 0.35812993839560736\n",
            "epoch 1 batch id 22601 loss 2.6190366744995117 train acc 0.3591945599752223\n",
            "epoch 1 batch id 22801 loss 1.365383505821228 train acc 0.3603049208368054\n",
            "epoch 1 batch id 23001 loss 2.181912422180176 train acc 0.3614027650971697\n",
            "epoch 1 batch id 23201 loss 2.5641210079193115 train acc 0.3623927847937589\n",
            "epoch 1 batch id 23401 loss 1.686127781867981 train acc 0.3633939254732704\n",
            "epoch 1 batch id 23601 loss 2.349702835083008 train acc 0.36438339477140796\n",
            "epoch 1 batch id 23801 loss 2.4568886756896973 train acc 0.365382494433007\n",
            "epoch 1 batch id 24001 loss 1.879154920578003 train acc 0.3663987958835049\n",
            "epoch 1 batch id 24201 loss 1.9729039669036865 train acc 0.3674189599603322\n",
            "epoch 1 batch id 24401 loss 2.079779624938965 train acc 0.36841343592475717\n",
            "epoch 1 batch id 24601 loss 2.0455405712127686 train acc 0.36941206658265924\n",
            "epoch 1 batch id 24801 loss 1.772373080253601 train acc 0.37039207088423853\n",
            "epoch 1 batch id 25001 loss 2.826077461242676 train acc 0.37138889444422224\n",
            "epoch 1 batch id 25201 loss 1.9797163009643555 train acc 0.3724306575135907\n",
            "epoch 1 batch id 25401 loss 1.967333436012268 train acc 0.37332314672650685\n",
            "epoch 1 batch id 25601 loss 2.3089404106140137 train acc 0.3742175598609429\n",
            "epoch 1 batch id 25801 loss 2.010096788406372 train acc 0.3750714604085113\n",
            "epoch 1 batch id 26001 loss 2.7140142917633057 train acc 0.37594106957424717\n",
            "epoch 1 batch id 26201 loss 2.9483938217163086 train acc 0.3767926319606122\n",
            "epoch 1 batch id 26401 loss 2.4611759185791016 train acc 0.37771533275254726\n",
            "epoch 1 batch id 26601 loss 2.799684762954712 train acc 0.3785947896695613\n",
            "epoch 1 batch id 26801 loss 2.8119850158691406 train acc 0.3794063187940748\n",
            "epoch 1 batch id 27001 loss 2.3335120677948 train acc 0.38029957223806526\n",
            "epoch 1 batch id 27201 loss 2.1432673931121826 train acc 0.38113603360170584\n",
            "epoch 1 batch id 27401 loss 1.9751428365707397 train acc 0.3819055417685486\n",
            "epoch 1 batch id 27601 loss 2.6723477840423584 train acc 0.38275560668091735\n",
            "epoch 1 batch id 27801 loss 2.7691426277160645 train acc 0.38358220028056544\n",
            "epoch 1 batch id 28001 loss 2.186270236968994 train acc 0.3843255598014357\n",
            "epoch 1 batch id 28201 loss 1.898999571800232 train acc 0.38509272720825505\n",
            "epoch 1 batch id 28401 loss 1.7281579971313477 train acc 0.3858347857469807\n",
            "epoch 1 batch id 28601 loss 2.3965442180633545 train acc 0.3866374864515227\n",
            "epoch 1 batch id 28801 loss 1.4262044429779053 train acc 0.38733464115829314\n",
            "epoch 1 batch id 29001 loss 2.055325746536255 train acc 0.3880749801730975\n",
            "epoch 1 batch id 29201 loss 2.4230072498321533 train acc 0.388852265333379\n",
            "epoch 1 batch id 29401 loss 1.9167009592056274 train acc 0.3896115353219278\n",
            "epoch 1 batch id 29601 loss 2.1724941730499268 train acc 0.39030987128813216\n",
            "epoch 1 batch id 29801 loss 1.7353461980819702 train acc 0.391003028421865\n",
            "epoch 1 batch id 30001 loss 2.083922863006592 train acc 0.39167236092130264\n",
            "epoch 1 batch id 30201 loss 1.6185499429702759 train acc 0.39244354491573125\n",
            "epoch 1 batch id 30401 loss 2.074906826019287 train acc 0.39311926416894183\n",
            "epoch 1 batch id 30601 loss 2.218888282775879 train acc 0.39387499591516617\n",
            "epoch 1 batch id 30801 loss 2.2660703659057617 train acc 0.39456612609980196\n",
            "epoch 1 batch id 31001 loss 2.9916512966156006 train acc 0.3952493467952647\n",
            "epoch 1 batch id 31201 loss 2.6135432720184326 train acc 0.39592981795455273\n",
            "epoch 1 batch id 31401 loss 1.7133920192718506 train acc 0.3966075921149008\n",
            "epoch 1 batch id 31601 loss 2.285571813583374 train acc 0.39725107591531916\n",
            "epoch 1 batch id 31801 loss 1.8641674518585205 train acc 0.3978776217729002\n",
            "epoch 1 batch id 32001 loss 1.9853026866912842 train acc 0.39846215743258023\n",
            "epoch 1 batch id 32201 loss 2.81866717338562 train acc 0.39908698487624605\n",
            "epoch 1 batch id 32401 loss 2.6888957023620605 train acc 0.3997667896052591\n",
            "epoch 1 batch id 32601 loss 2.4464566707611084 train acc 0.4003423974724702\n",
            "epoch 1 batch id 32801 loss 1.7261805534362793 train acc 0.4009471891100881\n",
            "epoch 1 batch id 33001 loss 2.1830315589904785 train acc 0.4015607481591467\n",
            "epoch 1 batch id 33201 loss 2.3028903007507324 train acc 0.4021951522544502\n",
            "epoch 1 batch id 33401 loss 2.103640079498291 train acc 0.40276675848028504\n",
            "epoch 1 batch id 33601 loss 1.9080225229263306 train acc 0.40338178179220857\n",
            "epoch 1 batch id 33801 loss 1.748128056526184 train acc 0.4039562438981095\n",
            "epoch 1 batch id 34001 loss 2.0336570739746094 train acc 0.404523028734449\n",
            "epoch 1 batch id 34201 loss 2.318143367767334 train acc 0.4050840984181749\n",
            "epoch 1 batch id 34401 loss 1.5082383155822754 train acc 0.40567316357082644\n",
            "epoch 1 batch id 34601 loss 1.916054368019104 train acc 0.4061118175775267\n",
            "epoch 1 batch id 34801 loss 1.9441654682159424 train acc 0.4066567771041062\n",
            "epoch 1 batch id 35001 loss 2.2199952602386475 train acc 0.40721068683751893\n",
            "epoch 1 batch id 35201 loss 2.384963274002075 train acc 0.407776945257237\n",
            "epoch 1 batch id 35401 loss 2.1841516494750977 train acc 0.4082988474901839\n",
            "epoch 1 batch id 35601 loss 2.2132325172424316 train acc 0.40873500744361113\n",
            "epoch 1 batch id 35801 loss 2.4603891372680664 train acc 0.40926231110862826\n",
            "epoch 1 batch id 36001 loss 1.9828060865402222 train acc 0.40976986750368044\n",
            "epoch 1 batch id 36201 loss 2.078091859817505 train acc 0.4103287892599652\n",
            "epoch 1 batch id 36401 loss 1.6202397346496582 train acc 0.41083521057113814\n",
            "epoch 1 batch id 36601 loss 1.7131376266479492 train acc 0.41133780497800604\n",
            "epoch 1 batch id 36801 loss 2.5164055824279785 train acc 0.4118238974484389\n",
            "epoch 1 batch id 37001 loss 1.7344902753829956 train acc 0.41231824815545526\n",
            "epoch 1 batch id 37201 loss 2.6820178031921387 train acc 0.41278292250208326\n",
            "epoch 1 batch id 37401 loss 3.243119239807129 train acc 0.41323510735007085\n",
            "epoch 1 batch id 37601 loss 1.8747930526733398 train acc 0.41373400973378366\n",
            "epoch 1 batch id 37801 loss 2.5658907890319824 train acc 0.41421275230814\n",
            "epoch 1 batch id 38001 loss 1.8777563571929932 train acc 0.4146963237809531\n",
            "epoch 1 batch id 38201 loss 1.856175184249878 train acc 0.4152091895500118\n",
            "\n",
            "epoch 1 train acc 0.41542930150355645\n"
          ],
          "name": "stdout"
        },
        {
          "output_type": "stream",
          "text": [
            "/usr/local/lib/python3.7/dist-packages/ipykernel_launcher.py:26: TqdmDeprecationWarning: This function will be removed in tqdm==5.0.0\n",
            "Please use `tqdm.notebook.tqdm` instead of `tqdm.tqdm_notebook`\n"
          ],
          "name": "stderr"
        },
        {
          "output_type": "display_data",
          "data": {
            "application/vnd.jupyter.widget-view+json": {
              "model_id": "74bc8f885c144150ba9a275cf7b4ce36",
              "version_major": 2,
              "version_minor": 0
            },
            "text/plain": [
              "HBox(children=(FloatProgress(value=0.0, max=9572.0), HTML(value='')))"
            ]
          },
          "metadata": {
            "tags": []
          }
        },
        {
          "output_type": "stream",
          "text": [
            "\n",
            "epoch 1 test acc 0.5179024759715838\n"
          ],
          "name": "stdout"
        },
        {
          "output_type": "display_data",
          "data": {
            "application/vnd.jupyter.widget-view+json": {
              "model_id": "bdfcff4e9ec54cff8419ae2878e63eca",
              "version_minor": 0,
              "version_major": 2
            },
            "text/plain": [
              "HBox(children=(FloatProgress(value=0.0, max=38287.0), HTML(value='')))"
            ]
          },
          "metadata": {
            "tags": []
          }
        },
        {
          "output_type": "stream",
          "text": [
            "epoch 2 batch id 1 loss 2.2691776752471924 train acc 0.5\n",
            "epoch 2 batch id 201 loss 1.6949055194854736 train acc 0.4975124378109453\n",
            "epoch 2 batch id 401 loss 1.8526620864868164 train acc 0.503428927680798\n",
            "epoch 2 batch id 601 loss 2.718635320663452 train acc 0.500103993344426\n",
            "epoch 2 batch id 801 loss 2.356433153152466 train acc 0.4988295880149813\n",
            "epoch 2 batch id 1001 loss 2.588104009628296 train acc 0.49803321678321677\n",
            "epoch 2 batch id 1201 loss 1.8864445686340332 train acc 0.49862094088259784\n",
            "epoch 2 batch id 1401 loss 2.303121566772461 train acc 0.5004461099214846\n",
            "epoch 2 batch id 1601 loss 2.434843063354492 train acc 0.5024398813241724\n",
            "epoch 2 batch id 1801 loss 2.267906665802002 train acc 0.5036611604664075\n",
            "epoch 2 batch id 2001 loss 3.260470390319824 train acc 0.5036544227886057\n",
            "epoch 2 batch id 2201 loss 2.1292240619659424 train acc 0.5043872103589278\n",
            "epoch 2 batch id 2401 loss 3.107167959213257 train acc 0.5032668679716785\n",
            "epoch 2 batch id 2601 loss 2.3647546768188477 train acc 0.5034121491733948\n",
            "epoch 2 batch id 2801 loss 1.876246452331543 train acc 0.5035813102463406\n",
            "epoch 2 batch id 3001 loss 2.261117458343506 train acc 0.5041027990669776\n",
            "epoch 2 batch id 3201 loss 2.054065704345703 train acc 0.5045688847235239\n"
          ],
          "name": "stdout"
        }
      ]
    },
    {
      "cell_type": "code",
      "metadata": {
        "id": "rvSXsRP-SQmA"
      },
      "source": [
        "# checkpoint = torch.load(PATH + 'all.tar')   # dict 불러오기\n",
        "# model.load_state_dict(checkpoint['model_state_dict'])\n",
        "# optimizer.load_state_dict(checkpoint['optimizer_state_dict'])"
      ],
      "execution_count": null,
      "outputs": []
    }
  ]
}